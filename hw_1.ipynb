{
 "cells": [
  {
   "cell_type": "code",
   "execution_count": 9,
   "metadata": {},
   "outputs": [],
   "source": [
    "%matplotlib inline\n",
    "\n",
    "import numpy as np\n",
    "from numpy.linalg import norm\n",
    "import matplotlib.pyplot as plt"
   ]
  },
  {
   "cell_type": "markdown",
   "metadata": {},
   "source": [
    "## Практическое задание. Часть 1"
   ]
  },
  {
   "cell_type": "markdown",
   "metadata": {},
   "source": [
    "### __1.__ Исследовать на линейную зависимость:\n",
    "$f_{1}(x)=e^{x}$,  \n",
    "$f_{2}(x)=1$,  \n",
    "$f_{3}(x)=x+1$,  \n",
    "$f_{4}(x)=x-e^{x}.$"
   ]
  },
  {
   "cell_type": "markdown",
   "metadata": {},
   "source": [
    "$f_{4}(x)=f_{3}(x) - f_{2}(x) - f_{1}(x)$  \n",
    "Так как $f_{1}(x), f_{2}(x), f_{3}(x)$ являются линейной комбинацией вектора $f_{4}(x)$. Поэтому все вектора являются линейно зависимыми "
   ]
  },
  {
   "cell_type": "markdown",
   "metadata": {},
   "source": [
    "### __2.__ Исследовать на линейную зависимость:\n",
    "$f_{1}(x)=2$,  \n",
    "$f_{2}(x)=x$,  \n",
    "$f_{3}(x)=x^{2}$,  \n",
    "$f_{4}(x)=(x+1)^{2}.$"
   ]
  },
  {
   "cell_type": "markdown",
   "metadata": {},
   "source": [
    "$f_{4}(x)=f_{3}(x)+2f_{2}(x)+\\frac{1}{2}f_{1}(x)$  \n",
    "Так как $f_{1}(x), f_{2}(x), f_{3}(x)$ являются линейной комбинацией вектора $f_{4}(x)$. Поэтому все вектора являются линейно зависимыми "
   ]
  },
  {
   "cell_type": "markdown",
   "metadata": {},
   "source": [
    "### __3.__ Найти координаты вектора $x = (2, 3, 5)\\in \\mathbb{R}^{3}$ в базисе $b_{1}=(0, 0, 10)$, $b_{2}=(2, 0, 0)$, $b_{3}=(0, 1, 0)$."
   ]
  },
  {
   "cell_type": "markdown",
   "metadata": {},
   "source": [
    "Стандартный базис вектора линейного пространства $\\mathbb{R}^{3}$ образуют векторы $e_1 = (1, 0, 0), e_2 = (0, 1, 0), e_3 = (0, 0, 1)$  \n",
    "$$x = (2,3,5) = (2,0,0)+(0,3,0)+(0,0,5) = 2(1,0,0) + 3(0,1,0) + 5(0,0,1) = 2e_1 + 3e_2 + 5e_3$$  \n",
    "$$b_1 = (0,0,10) = 10(0,0,1) = 10e_3 => e_3 = \\frac{b_1}{10}$$  \n",
    "$$b_2 = (2,0,0) = 2(1,0,0) = 2e_1 => e_1 = \\frac{b_2}{2}$$  \n",
    "$$b_3 = (0,1,0) = e_2$$  \n",
    "Из этого следует что $x$ в базисе $b_1, b_2, b_3$ равен:  \n",
    "$$x = 2e_1 + 3e_2 + 5e_3 = \\frac{2b_2}{2} + 3b_3 + \\frac{5b_1}{10} = b_2 + 3b_3 + \\frac{b_1}{2}$$  \n",
    "то есть координатами вектора $x$ в базисе $b_1, b_2, b_3$ являются $1$, $3$, $\\frac{1}{2}$."
   ]
  },
  {
   "cell_type": "markdown",
   "metadata": {},
   "source": [
    "### __4.__ Найти координаты вектора $3x^{2}-2x+2\\in\\mathbb{R}^{3}[x]$:"
   ]
  },
  {
   "cell_type": "markdown",
   "metadata": {},
   "source": [
    "   а) в базисе $1$, $x$, $x^{2}$;"
   ]
  },
  {
   "cell_type": "code",
   "execution_count": 2,
   "metadata": {},
   "outputs": [],
   "source": [
    "x = (2, -2, 3)"
   ]
  },
  {
   "cell_type": "markdown",
   "metadata": {},
   "source": [
    "б) в базисе $x^{2}$, $x-1$, $1$."
   ]
  },
  {
   "cell_type": "code",
   "execution_count": 3,
   "metadata": {},
   "outputs": [],
   "source": [
    "x = (3, -3, 2)"
   ]
  },
  {
   "cell_type": "markdown",
   "metadata": {},
   "source": [
    "### __5.__ Установить, является ли линейным подпространством:"
   ]
  },
  {
   "cell_type": "markdown",
   "metadata": {},
   "source": [
    "а) совокупность всех векторов трехмерного пространства, у которых по крайней мере одна из первых двух координат равна нулю;"
   ]
  },
  {
   "cell_type": "code",
   "execution_count": null,
   "metadata": {},
   "outputs": [],
   "source": []
  },
  {
   "cell_type": "markdown",
   "metadata": {},
   "source": [
    "б) все векторы, являющиеся линейными комбинациями данных векторов $\\{u_{1}, u_{2}, ..., u_{n}\\}$."
   ]
  },
  {
   "cell_type": "code",
   "execution_count": null,
   "metadata": {},
   "outputs": [],
   "source": []
  },
  {
   "cell_type": "markdown",
   "metadata": {},
   "source": [
    "## Практическое задание. Часть 2"
   ]
  },
  {
   "cell_type": "markdown",
   "metadata": {},
   "source": [
    "### __1.__ Найти скалярное произведение векторов $x, y \\in \\mathbb{R}$:<br>"
   ]
  },
  {
   "cell_type": "markdown",
   "metadata": {},
   "source": [
    "а) $x=(0,-3, 6),~y=(-4, 7, 9);$<br>"
   ]
  },
  {
   "cell_type": "code",
   "execution_count": 7,
   "metadata": {},
   "outputs": [
    {
     "data": {
      "text/plain": [
       "(33, 33)"
      ]
     },
     "execution_count": 7,
     "metadata": {},
     "output_type": "execute_result"
    }
   ],
   "source": [
    "x = np.array([0, -3, 6])\n",
    "y = np.array([-4, 7, 9])\n",
    "a = (x * y).sum()\n",
    "b = np.dot(x, y)\n",
    "a, b"
   ]
  },
  {
   "cell_type": "markdown",
   "metadata": {},
   "source": [
    "б) $x=(7, -4, 0, 1),~y=(-3, 1, 11, 2).$"
   ]
  },
  {
   "cell_type": "code",
   "execution_count": 8,
   "metadata": {},
   "outputs": [
    {
     "data": {
      "text/plain": [
       "(-23, -23)"
      ]
     },
     "execution_count": 8,
     "metadata": {},
     "output_type": "execute_result"
    }
   ],
   "source": [
    "x = np.array([7, -4, 0, 1])\n",
    "y = np.array([-3, 1, 11, 2])\n",
    "a = (x * y).sum()\n",
    "b = np.dot(x, y)\n",
    "a, b"
   ]
  },
  {
   "cell_type": "markdown",
   "metadata": {},
   "source": [
    "### __2.__ Найти нормы векторов $(4, 2, 4)$ и $(12, 3, 4)$ и угол между ними."
   ]
  },
  {
   "cell_type": "code",
   "execution_count": 12,
   "metadata": {},
   "outputs": [],
   "source": [
    "x = np.array([4, 2, 4])\n",
    "y = np.array([12, 3, 4])"
   ]
  },
  {
   "cell_type": "markdown",
   "metadata": {},
   "source": [
    "$$||x|| = \\sqrt{4^2 + 2^2 + 4^2} = \\sqrt{16 + 4 + 16} = \\sqrt{36} = 6$$\n",
    "$$||y|| = \\sqrt{12^2 + 3^2 + 4^2} = \\sqrt{144 + 9 + 16} = \\sqrt{169} = 13$$\n",
    "$$(x,y) = 4*12 + 2*3 + 4*4 = 48 + 6 + 16 = 70$$\n",
    "$$cos\\varphi = \\frac{(x,y)}{||x|| * ||y||} = \\frac{70}{6 * 13} = \\frac{70}{78} \\approx 0,8974$$"
   ]
  },
  {
   "cell_type": "code",
   "execution_count": 17,
   "metadata": {},
   "outputs": [
    {
     "name": "stdout",
     "output_type": "stream",
     "text": [
      "Косинус угла между a и b: 0.8974\n",
      "Угол между a и b: 0.4569\n"
     ]
    }
   ],
   "source": [
    "cos_phi = np.dot(x, y) / (norm(x) * norm(y))\n",
    "print(f'Косинус угла между a и b: {cos_phi:.4f}')\n",
    "print(f'Угол между a и b: {np.arccos(cos_phi):.4f}')"
   ]
  },
  {
   "cell_type": "markdown",
   "metadata": {},
   "source": [
    "### __3.__ Будет ли линейное пространство евклидовым, если за скалярное произведение принять:<br>"
   ]
  },
  {
   "cell_type": "markdown",
   "metadata": {},
   "source": [
    "а) произведение длин векторов;<br>"
   ]
  },
  {
   "cell_type": "markdown",
   "metadata": {},
   "source": [
    "Нет, так как не удовлетворяет условние по пределению"
   ]
  },
  {
   "cell_type": "markdown",
   "metadata": {},
   "source": [
    "б) утроенное обычное скалярное произведение векторов?"
   ]
  },
  {
   "cell_type": "markdown",
   "metadata": {},
   "source": [
    "Да, согласно аксиоме $(\\lambda x, y)=\\lambda(x, y);$"
   ]
  },
  {
   "cell_type": "markdown",
   "metadata": {},
   "source": [
    "### __4.__ Какие из нижеперечисленных векторов образуют ортонормированный базис в линейном пространстве $\\mathbb{R}^{3}$:<br>"
   ]
  },
  {
   "cell_type": "markdown",
   "metadata": {},
   "source": [
    "а) $(1,0,0),(0,0,1);$ <br>"
   ]
  },
  {
   "cell_type": "code",
   "execution_count": 29,
   "metadata": {},
   "outputs": [
    {
     "data": {
      "text/plain": [
       "(0, 1)"
      ]
     },
     "execution_count": 29,
     "metadata": {},
     "output_type": "execute_result"
    }
   ],
   "source": [
    "x = np.array([1, 0, 0])\n",
    "y = np.array([0, 0, 1])\n",
    "np.dot(x,y), np.dot(x,x)"
   ]
  },
  {
   "cell_type": "markdown",
   "metadata": {},
   "source": [
    "б) $(1/\\sqrt{2},-1/\\sqrt{2},0),(1/\\sqrt{2},1/\\sqrt{2},0), (0,0,1);$<br>"
   ]
  },
  {
   "cell_type": "code",
   "execution_count": 30,
   "metadata": {},
   "outputs": [
    {
     "data": {
      "text/plain": [
       "(0.0, 0.0, 0.0, 0.9999999999999998)"
      ]
     },
     "execution_count": 30,
     "metadata": {},
     "output_type": "execute_result"
    }
   ],
   "source": [
    "x = np.array([1/np.sqrt(2), -1/np.sqrt(2), 0])\n",
    "y = np.array([1/np.sqrt(2), 1/np.sqrt(2), 0])\n",
    "z = np.array([0,0,1])\n",
    "np.dot(x,y), np.dot(y,z), np.dot(x,z), np.dot(x,x)"
   ]
  },
  {
   "cell_type": "markdown",
   "metadata": {},
   "source": [
    "в) $(1/2, -1/2, 0), (0, 1/2, 1/2), (0,0,1);$<br> "
   ]
  },
  {
   "cell_type": "code",
   "execution_count": 33,
   "metadata": {},
   "outputs": [
    {
     "data": {
      "text/plain": [
       "(-0.25, 0.5, 0.0, 1)"
      ]
     },
     "execution_count": 33,
     "metadata": {},
     "output_type": "execute_result"
    }
   ],
   "source": [
    "x = np.array([1/2, -1/2, 0])\n",
    "y = np.array([0, 1/2, 1/2])\n",
    "z = np.array([0,0,1])\n",
    "np.dot(x,y), np.dot(y,z), np.dot(x,z) , np.dot(z,z)"
   ]
  },
  {
   "cell_type": "markdown",
   "metadata": {},
   "source": [
    "г) $(1,0,0),(0,1,0),(0,0,1)?$"
   ]
  },
  {
   "cell_type": "code",
   "execution_count": 34,
   "metadata": {},
   "outputs": [
    {
     "data": {
      "text/plain": [
       "(0, 0, 0, 1)"
      ]
     },
     "execution_count": 34,
     "metadata": {},
     "output_type": "execute_result"
    }
   ],
   "source": [
    "x = np.array([1,0,0])\n",
    "y = np.array([0,1,0])\n",
    "z = np.array([0,0,1])\n",
    "np.dot(x,y), np.dot(y,z), np.dot(x,z), np.dot(x,x)"
   ]
  },
  {
   "cell_type": "markdown",
   "metadata": {},
   "source": [
    "Из вышеперечисленных векторов образуют ортонормированный базис в линейном пространстве все те которые удолитворяют условия по определению.  \n",
    "__Определение.__ В конечномерном евклидовом пространстве базис $\\{e_{1},e_{2} ,...,e_{n}\\}$ называется ортонормированным, если \n",
    "\n",
    "$(e_{i}, e_{j})=0$ $\\forall$ $i\\neq j$ и $(e_{i},e_{i})=1$ $\\forall$ $i\\in[1, n].$"
   ]
  },
  {
   "cell_type": "markdown",
   "metadata": {},
   "source": [
    "__Это вектора: а, б, г__"
   ]
  }
 ],
 "metadata": {
  "kernelspec": {
   "display_name": "Python 3",
   "language": "python",
   "name": "python3"
  },
  "language_info": {
   "codemirror_mode": {
    "name": "ipython",
    "version": 3
   },
   "file_extension": ".py",
   "mimetype": "text/x-python",
   "name": "python",
   "nbconvert_exporter": "python",
   "pygments_lexer": "ipython3",
   "version": "3.8.3"
  }
 },
 "nbformat": 4,
 "nbformat_minor": 4
}
